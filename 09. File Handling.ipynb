{
 "cells": [
  {
   "cell_type": "code",
   "execution_count": 11,
   "metadata": {},
   "outputs": [
    {
     "name": "stdout",
     "output_type": "stream",
     "text": [
      "Hi, My name is Aditya Dwivedi\n",
      "I love to work with Deep Learning\n",
      "I know how to accelerate my deep learning runtime on GPUs\n",
      "I know how to do that with TPUs as well\n",
      "I use TensorRT instead of TF Serving for DL Inference\n",
      "I am working with a team with NVidia\n",
      "\n"
     ]
    }
   ],
   "source": [
    "with open(\"data.txt\", 'r') as file:\n",
    "    print(file.read())"
   ]
  },
  {
   "cell_type": "code",
   "execution_count": 12,
   "metadata": {},
   "outputs": [
    {
     "name": "stdout",
     "output_type": "stream",
     "text": [
      "Hi, My name is Aditya Dwivedi\n",
      "\n"
     ]
    }
   ],
   "source": [
    "with open(\"data.txt\", 'r') as file:\n",
    "    print(file.readline())"
   ]
  },
  {
   "cell_type": "code",
   "execution_count": 13,
   "metadata": {},
   "outputs": [
    {
     "name": "stdout",
     "output_type": "stream",
     "text": [
      "Hi, My name is Aditya Dwivedi\n",
      "I love to work with Deep Learning\n",
      "\n"
     ]
    }
   ],
   "source": [
    "with open(\"data.txt\", 'r') as file:\n",
    "    print(file.readline(), end='')\n",
    "    print(file.readline())"
   ]
  },
  {
   "cell_type": "code",
   "execution_count": 14,
   "metadata": {},
   "outputs": [],
   "source": [
    "with open(\"newData.txt\", 'w') as file:\n",
    "    file.write(\"This is the new file, I just created\\n Dont you think I am awesome?\\n I can create files using Python\\n Can you?\")"
   ]
  },
  {
   "cell_type": "code",
   "execution_count": 15,
   "metadata": {},
   "outputs": [
    {
     "name": "stdout",
     "output_type": "stream",
     "text": [
      "This is the new file, I just created\n",
      " Dont you think I am awesome?\n",
      " I can create files using Python\n",
      " Can you?\n"
     ]
    }
   ],
   "source": [
    "with open(\"newData.txt\", 'r') as file:\n",
    "    print(file.read())"
   ]
  },
  {
   "cell_type": "code",
   "execution_count": 16,
   "metadata": {},
   "outputs": [],
   "source": [
    "with open(\"newData.txt\", 'a') as file:\n",
    "    file.write(\"I can append as well!\")"
   ]
  },
  {
   "cell_type": "code",
   "execution_count": null,
   "metadata": {},
   "outputs": [],
   "source": []
  }
 ],
 "metadata": {
  "kernelspec": {
   "display_name": "Python 3",
   "language": "python",
   "name": "python3"
  },
  "language_info": {
   "codemirror_mode": {
    "name": "ipython",
    "version": 3
   },
   "file_extension": ".py",
   "mimetype": "text/x-python",
   "name": "python",
   "nbconvert_exporter": "python",
   "pygments_lexer": "ipython3",
   "version": "3.7.3"
  }
 },
 "nbformat": 4,
 "nbformat_minor": 2
}
