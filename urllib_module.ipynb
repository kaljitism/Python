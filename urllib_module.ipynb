{
 "cells": [
  {
   "cell_type": "code",
   "execution_count": 1,
   "metadata": {},
   "outputs": [
    {
     "name": "stdout",
     "output_type": "stream",
     "text": [
      "\n"
     ]
    }
   ],
   "source": [
    "\"\"\"\n",
    "For importing or downloading Data from the web, we use urllib.\n",
    "\"\"\"\n",
    "print()"
   ]
  },
  {
   "cell_type": "code",
   "execution_count": 2,
   "metadata": {},
   "outputs": [
    {
     "name": "stdout",
     "output_type": "stream",
     "text": [
      "\n"
     ]
    }
   ],
   "source": [
    "\"\"\"\n",
    "URL - Universal/Uniform Resource Locator\n",
    "\n",
    "They are nothing but reference to web resources\n",
    "\n",
    "Here, our focus will be only on web addresses..\n",
    "\n",
    "They are consist of: \n",
    "    # Protocol Identifier - https: or http:\n",
    "    # Resource Name: kaljit.com\n",
    "\"\"\"\n",
    "print()"
   ]
  },
  {
   "cell_type": "code",
   "execution_count": 4,
   "metadata": {},
   "outputs": [
    {
     "name": "stdout",
     "output_type": "stream",
     "text": [
      "\n"
     ]
    }
   ],
   "source": [
    "\"\"\"\n",
    "HTTP: HyperText Transfer Protocol\n",
    "HTTPS: HyperText Transfer Protocol Secure\n",
    "\n",
    "Communication between client computers and web servers is done\n",
    "by sending HTTP/ HTTPS requests and recieving HTTP / HTTPS Response.\n",
    "\"\"\"\n",
    "print()"
   ]
  },
  {
   "cell_type": "code",
   "execution_count": 6,
   "metadata": {},
   "outputs": [
    {
     "name": "stdout",
     "output_type": "stream",
     "text": [
      "\n"
     ]
    }
   ],
   "source": [
    "\"\"\"\n",
    "Going to website: Sending HTTP request or get request()\n",
    "When we use urlretrieve() of urllib, we are using get request\n",
    "\"\"\"\n",
    "print()"
   ]
  },
  {
   "cell_type": "code",
   "execution_count": 8,
   "metadata": {},
   "outputs": [
    {
     "name": "stdout",
     "output_type": "stream",
     "text": [
      "\n"
     ]
    }
   ],
   "source": [
    "\"\"\"\n",
    "Apart from recieving data from get request, it saves files and all\n",
    "locally.\n",
    "\"\"\"\n",
    "print()"
   ]
  },
  {
   "cell_type": "code",
   "execution_count": 10,
   "metadata": {},
   "outputs": [],
   "source": [
    "from urllib import request"
   ]
  },
  {
   "cell_type": "code",
   "execution_count": 19,
   "metadata": {},
   "outputs": [
    {
     "data": {
      "text/plain": [
       "('RC_2007-02.bz2', <http.client.HTTPMessage at 0x2c2acf17d68>)"
      ]
     },
     "execution_count": 19,
     "metadata": {},
     "output_type": "execute_result"
    }
   ],
   "source": [
    "url = 'http://files.pushshift.io/reddit/comments/RC_2007-01.bz2'\n",
    "request.urlretrieve(url, 'RC_2007-02.bz2')"
   ]
  },
  {
   "cell_type": "code",
   "execution_count": null,
   "metadata": {},
   "outputs": [],
   "source": []
  },
  {
   "cell_type": "code",
   "execution_count": null,
   "metadata": {},
   "outputs": [],
   "source": []
  },
  {
   "cell_type": "code",
   "execution_count": null,
   "metadata": {},
   "outputs": [],
   "source": []
  },
  {
   "cell_type": "code",
   "execution_count": 20,
   "metadata": {},
   "outputs": [
    {
     "data": {
      "text/plain": [
       "''"
      ]
     },
     "execution_count": 20,
     "metadata": {},
     "output_type": "execute_result"
    }
   ],
   "source": [
    "\"\"\"\n",
    "os\n",
    "sys\n",
    "urllib\n",
    "numpy\n",
    "pandas\n",
    "matplotlib\n",
    "seaborn\n",
    "json\n",
    "sqlAlchemy/ SQLite3\n",
    "sklearn and statsmodel\n",
    "Deep Learning - keras, tensorflow, pytorch\n",
    "NLP - NLTK, Spacy and Gensim\n",
    "Computer Vision - OpenCV\n",
    "\"\"\""
   ]
  },
  {
   "cell_type": "code",
   "execution_count": null,
   "metadata": {},
   "outputs": [],
   "source": [
    "\"\"\"\n",
    "Blogs of whatever I have taught to you...\n",
    "Python...\n",
    "Numpy, Pandas, Matplotlib... \n",
    "EDA.. Stats.. \n",
    "All Machine Learning Algos...\n",
    "\"\"\"\n",
    "# Blogs will be linked to my Github\n",
    "\n",
    "kaljit.com"
   ]
  }
 ],
 "metadata": {
  "kernelspec": {
   "display_name": "Python 3",
   "language": "python",
   "name": "python3"
  },
  "language_info": {
   "codemirror_mode": {
    "name": "ipython",
    "version": 3
   },
   "file_extension": ".py",
   "mimetype": "text/x-python",
   "name": "python",
   "nbconvert_exporter": "python",
   "pygments_lexer": "ipython3",
   "version": "3.7.0"
  }
 },
 "nbformat": 4,
 "nbformat_minor": 2
}
