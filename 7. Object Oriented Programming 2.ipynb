{
 "cells": [
  {
   "cell_type": "markdown",
   "metadata": {},
   "source": [
    "### Inner Class"
   ]
  },
  {
   "cell_type": "code",
   "execution_count": 1,
   "metadata": {},
   "outputs": [],
   "source": [
    "class Student:\n",
    "    \n",
    "    def __init__(self, name, roll):\n",
    "        self.name = name\n",
    "        self.roll = roll"
   ]
  },
  {
   "cell_type": "code",
   "execution_count": 2,
   "metadata": {},
   "outputs": [],
   "source": [
    "s1 = Student('Aditya', 1)"
   ]
  },
  {
   "cell_type": "code",
   "execution_count": 3,
   "metadata": {},
   "outputs": [
    {
     "ename": "AttributeError",
     "evalue": "'Student' object has no attribute 'show'",
     "output_type": "error",
     "traceback": [
      "\u001b[1;31m---------------------------------------------------------------------------\u001b[0m",
      "\u001b[1;31mAttributeError\u001b[0m                            Traceback (most recent call last)",
      "\u001b[1;32m<ipython-input-3-61f9a117e707>\u001b[0m in \u001b[0;36m<module>\u001b[1;34m\u001b[0m\n\u001b[1;32m----> 1\u001b[1;33m \u001b[0ms1\u001b[0m\u001b[1;33m.\u001b[0m\u001b[0mshow\u001b[0m\u001b[1;33m(\u001b[0m\u001b[1;33m)\u001b[0m\u001b[1;33m\u001b[0m\u001b[1;33m\u001b[0m\u001b[0m\n\u001b[0m",
      "\u001b[1;31mAttributeError\u001b[0m: 'Student' object has no attribute 'show'"
     ]
    }
   ],
   "source": [
    "s1.show()"
   ]
  },
  {
   "cell_type": "code",
   "execution_count": 4,
   "metadata": {},
   "outputs": [],
   "source": [
    "class Student:\n",
    "    \n",
    "    def __init__(self, name, roll):\n",
    "        self.name = name\n",
    "        self.roll = roll\n",
    "        \n",
    "    def show(self):\n",
    "        print(self.name, self.roll)"
   ]
  },
  {
   "cell_type": "code",
   "execution_count": 5,
   "metadata": {},
   "outputs": [],
   "source": [
    "s1 = Student('Aditya', 1)"
   ]
  },
  {
   "cell_type": "code",
   "execution_count": 6,
   "metadata": {},
   "outputs": [
    {
     "name": "stdout",
     "output_type": "stream",
     "text": [
      "Aditya 1\n"
     ]
    }
   ],
   "source": [
    "s1.show()"
   ]
  },
  {
   "cell_type": "code",
   "execution_count": 7,
   "metadata": {},
   "outputs": [],
   "source": [
    "class Student:\n",
    "    \n",
    "    def __init__(self, name, roll):\n",
    "        self.name = name\n",
    "        self.roll = roll\n",
    "        self.lap = self.Laptop()\n",
    "        \n",
    "    def show(self):\n",
    "        print(self.name, self.roll)\n",
    "        \n",
    "    class Laptop:\n",
    "        \n",
    "        def __init__(self):\n",
    "            self.brand = 'ASUS'\n",
    "            self.cpu = 'i9'\n",
    "            self.ram = 32"
   ]
  },
  {
   "cell_type": "code",
   "execution_count": 8,
   "metadata": {},
   "outputs": [],
   "source": [
    "s1 = Student('Aditya', 1)"
   ]
  },
  {
   "cell_type": "code",
   "execution_count": 9,
   "metadata": {},
   "outputs": [
    {
     "data": {
      "text/plain": [
       "'ASUS'"
      ]
     },
     "execution_count": 9,
     "metadata": {},
     "output_type": "execute_result"
    }
   ],
   "source": [
    "s1.lap.brand"
   ]
  },
  {
   "cell_type": "code",
   "execution_count": 10,
   "metadata": {},
   "outputs": [
    {
     "data": {
      "text/plain": [
       "'i9'"
      ]
     },
     "execution_count": 10,
     "metadata": {},
     "output_type": "execute_result"
    }
   ],
   "source": [
    "s1.lap.cpu"
   ]
  },
  {
   "cell_type": "code",
   "execution_count": 11,
   "metadata": {},
   "outputs": [
    {
     "data": {
      "text/plain": [
       "'ASUS'"
      ]
     },
     "execution_count": 11,
     "metadata": {},
     "output_type": "execute_result"
    }
   ],
   "source": [
    "s1.lap.brand"
   ]
  },
  {
   "cell_type": "code",
   "execution_count": 12,
   "metadata": {},
   "outputs": [],
   "source": [
    "s1 = Student(\"Aditya\", 1)\n",
    "s2 = Student(\"Aman\", 2)"
   ]
  },
  {
   "cell_type": "code",
   "execution_count": 13,
   "metadata": {},
   "outputs": [
    {
     "name": "stdout",
     "output_type": "stream",
     "text": [
      "ASUS\n",
      "ASUS\n"
     ]
    }
   ],
   "source": [
    "print(s1.lap.brand)\n",
    "print(s2.lap.brand)"
   ]
  },
  {
   "cell_type": "code",
   "execution_count": 14,
   "metadata": {},
   "outputs": [],
   "source": [
    "lap1 = s1.lap\n",
    "lap2 = s2.lap"
   ]
  },
  {
   "cell_type": "code",
   "execution_count": 15,
   "metadata": {},
   "outputs": [
    {
     "name": "stdout",
     "output_type": "stream",
     "text": [
      "1594589499632\n",
      "1594589499520\n"
     ]
    }
   ],
   "source": [
    "print(id(lap1))\n",
    "print(id(lap2))"
   ]
  },
  {
   "cell_type": "code",
   "execution_count": 16,
   "metadata": {},
   "outputs": [],
   "source": [
    "class Student:\n",
    "    \n",
    "    def __init__(self, name, roll):\n",
    "        self.name = name\n",
    "        self.roll = roll\n",
    "        \n",
    "    def show(self):\n",
    "        print(self.name, self.roll)\n",
    "        \n",
    "    class Laptop:\n",
    "        \n",
    "        def __init__(self):\n",
    "            self.brand = 'ASUS'\n",
    "            self.cpu = 'i9'\n",
    "            self.ram = 32"
   ]
  },
  {
   "cell_type": "code",
   "execution_count": 17,
   "metadata": {},
   "outputs": [],
   "source": [
    "s1 = Student(\"Aditya\", 1)"
   ]
  },
  {
   "cell_type": "code",
   "execution_count": 18,
   "metadata": {},
   "outputs": [],
   "source": [
    "lap1 = s1.Laptop()"
   ]
  },
  {
   "cell_type": "code",
   "execution_count": 19,
   "metadata": {},
   "outputs": [],
   "source": [
    "class Student:\n",
    "    \n",
    "    def __init__(self, name, roll):\n",
    "        self.name = name\n",
    "        self.roll = roll\n",
    "        \n",
    "    def show(self):\n",
    "        print(self.name, self.roll)\n",
    "        \n",
    "    class Laptop:\n",
    "        \n",
    "        def __init__(self):\n",
    "            self.brand = 'ASUS'\n",
    "            self.cpu = 'i9'\n",
    "            self.ram = 32\n",
    "            \n",
    "        def show(self):\n",
    "            print(self.brand, self.cpu, self.ram)"
   ]
  },
  {
   "cell_type": "code",
   "execution_count": 20,
   "metadata": {},
   "outputs": [],
   "source": [
    "s1 = Student(\"Aditya\", 1)\n",
    "lap1 = s1.Laptop()"
   ]
  },
  {
   "cell_type": "code",
   "execution_count": 21,
   "metadata": {},
   "outputs": [
    {
     "name": "stdout",
     "output_type": "stream",
     "text": [
      "Aditya 1\n"
     ]
    }
   ],
   "source": [
    "s1.show()"
   ]
  },
  {
   "cell_type": "code",
   "execution_count": 22,
   "metadata": {},
   "outputs": [
    {
     "name": "stdout",
     "output_type": "stream",
     "text": [
      "ASUS i9 32\n"
     ]
    }
   ],
   "source": [
    "lap1.show()"
   ]
  },
  {
   "cell_type": "code",
   "execution_count": 23,
   "metadata": {},
   "outputs": [],
   "source": [
    "class Student:\n",
    "    \n",
    "    def __init__(self, name, roll):\n",
    "        self.name = name\n",
    "        self.roll = roll\n",
    "        self.lap = self.Laptop()\n",
    "        \n",
    "    def show(self):\n",
    "        print(self.name, self.roll)\n",
    "        \n",
    "    class Laptop:\n",
    "        \n",
    "        def __init__(self):\n",
    "            self.brand = 'ASUS'\n",
    "            self.cpu = 'i9'\n",
    "            self.ram = 32\n",
    "            self.show()\n",
    "            \n",
    "        def show(self):\n",
    "            print(self.brand, self.cpu, self.ram)"
   ]
  },
  {
   "cell_type": "code",
   "execution_count": 24,
   "metadata": {},
   "outputs": [
    {
     "name": "stdout",
     "output_type": "stream",
     "text": [
      "ASUS i9 32\n"
     ]
    }
   ],
   "source": [
    "s1 = Student(\"Aditya\", 1)"
   ]
  },
  {
   "cell_type": "code",
   "execution_count": 25,
   "metadata": {},
   "outputs": [],
   "source": [
    "class Student:\n",
    "    \n",
    "    def __init__(self, name, roll):\n",
    "        self.name = name\n",
    "        self.roll = roll\n",
    "        self.show()\n",
    "        self.lap = self.Laptop()\n",
    "        \n",
    "    def show(self):\n",
    "        print(self.name, self.roll)\n",
    "        \n",
    "    class Laptop:\n",
    "        \n",
    "        def __init__(self):\n",
    "            self.brand = 'ASUS'\n",
    "            self.cpu = 'i9'\n",
    "            self.ram = 32\n",
    "            self.show()\n",
    "            \n",
    "        def show(self):\n",
    "            print(self.brand, self.cpu, self.ram)"
   ]
  },
  {
   "cell_type": "code",
   "execution_count": 26,
   "metadata": {},
   "outputs": [
    {
     "name": "stdout",
     "output_type": "stream",
     "text": [
      "Aditya 1\n",
      "ASUS i9 32\n"
     ]
    }
   ],
   "source": [
    "s1 = Student(\"Aditya\", 1)"
   ]
  },
  {
   "cell_type": "markdown",
   "metadata": {},
   "source": [
    "## Inheritence"
   ]
  },
  {
   "cell_type": "markdown",
   "metadata": {},
   "source": [
    "### Single Inheritence"
   ]
  },
  {
   "cell_type": "code",
   "execution_count": 27,
   "metadata": {},
   "outputs": [],
   "source": [
    "class A:\n",
    "    \n",
    "    def feature1(self):\n",
    "        print(\"Feature 1 working\")\n",
    "        \n",
    "    def feature2(self):\n",
    "        print(\"Feature 2 working\")"
   ]
  },
  {
   "cell_type": "code",
   "execution_count": 28,
   "metadata": {},
   "outputs": [],
   "source": [
    "a1 = A()"
   ]
  },
  {
   "cell_type": "code",
   "execution_count": 29,
   "metadata": {},
   "outputs": [
    {
     "name": "stdout",
     "output_type": "stream",
     "text": [
      "Feature 1 working\n",
      "Feature 2 working\n"
     ]
    }
   ],
   "source": [
    "a1.feature1()\n",
    "a1.feature2()"
   ]
  },
  {
   "cell_type": "code",
   "execution_count": 30,
   "metadata": {},
   "outputs": [],
   "source": [
    "class A:\n",
    "    \n",
    "    def __init__(self):\n",
    "        pass\n",
    "    \n",
    "    def feature1(self):\n",
    "        print(\"Feature 1 working\")\n",
    "        \n",
    "    def feature2(self):\n",
    "        print(\"Feature 2 working\")\n",
    "        \n",
    "        \n",
    "class B:\n",
    "    \n",
    "    def __init__(self):\n",
    "        pass\n",
    "    \n",
    "    def feature3(self):\n",
    "        print(\"Feature 3 working\")\n",
    "        \n",
    "    def feature4(self):\n",
    "        print(\"Feature 4 working\")"
   ]
  },
  {
   "cell_type": "code",
   "execution_count": 31,
   "metadata": {},
   "outputs": [],
   "source": [
    "a1 = A()"
   ]
  },
  {
   "cell_type": "code",
   "execution_count": 32,
   "metadata": {},
   "outputs": [
    {
     "name": "stdout",
     "output_type": "stream",
     "text": [
      "Feature 1 working\n",
      "Feature 2 working\n"
     ]
    }
   ],
   "source": [
    "a1.feature1()\n",
    "a1.feature2()"
   ]
  },
  {
   "cell_type": "code",
   "execution_count": 33,
   "metadata": {},
   "outputs": [],
   "source": [
    "b1 = B()"
   ]
  },
  {
   "cell_type": "code",
   "execution_count": 34,
   "metadata": {},
   "outputs": [
    {
     "name": "stdout",
     "output_type": "stream",
     "text": [
      "Feature 3 working\n",
      "Feature 4 working\n"
     ]
    }
   ],
   "source": [
    "b1.feature3()\n",
    "b1.feature4()"
   ]
  },
  {
   "cell_type": "code",
   "execution_count": 35,
   "metadata": {},
   "outputs": [
    {
     "ename": "AttributeError",
     "evalue": "'B' object has no attribute 'feature1'",
     "output_type": "error",
     "traceback": [
      "\u001b[1;31m---------------------------------------------------------------------------\u001b[0m",
      "\u001b[1;31mAttributeError\u001b[0m                            Traceback (most recent call last)",
      "\u001b[1;32m<ipython-input-35-650e23533bd9>\u001b[0m in \u001b[0;36m<module>\u001b[1;34m\u001b[0m\n\u001b[1;32m----> 1\u001b[1;33m \u001b[0mb1\u001b[0m\u001b[1;33m.\u001b[0m\u001b[0mfeature1\u001b[0m\u001b[1;33m(\u001b[0m\u001b[1;33m)\u001b[0m\u001b[1;33m\u001b[0m\u001b[1;33m\u001b[0m\u001b[0m\n\u001b[0m",
      "\u001b[1;31mAttributeError\u001b[0m: 'B' object has no attribute 'feature1'"
     ]
    }
   ],
   "source": [
    "b1.feature1()"
   ]
  },
  {
   "cell_type": "code",
   "execution_count": 36,
   "metadata": {},
   "outputs": [],
   "source": [
    "class A:\n",
    "    \n",
    "    def __init__(self):\n",
    "        pass\n",
    "    \n",
    "    def feature1(self):\n",
    "        print(\"Feature 1 working\")\n",
    "        \n",
    "    def feature2(self):\n",
    "        print(\"Feature 2 working\")\n",
    "        \n",
    "        \n",
    "class B(A):\n",
    "    \n",
    "    def __init__(self):\n",
    "        pass\n",
    "    \n",
    "    def feature3(self):\n",
    "        print(\"Feature 3 working\")\n",
    "        \n",
    "    def feature4(self):\n",
    "        print(\"Feature 4 working\")"
   ]
  },
  {
   "cell_type": "code",
   "execution_count": 37,
   "metadata": {},
   "outputs": [],
   "source": [
    "b1 = B()"
   ]
  },
  {
   "cell_type": "code",
   "execution_count": 38,
   "metadata": {},
   "outputs": [
    {
     "name": "stdout",
     "output_type": "stream",
     "text": [
      "Feature 1 working\n",
      "Feature 2 working\n",
      "Feature 3 working\n",
      "Feature 4 working\n"
     ]
    }
   ],
   "source": [
    "b1.feature1()\n",
    "b1.feature2()\n",
    "b1.feature3()\n",
    "b1.feature4()"
   ]
  },
  {
   "cell_type": "markdown",
   "metadata": {},
   "source": [
    "A is superclass/ parent class. \n",
    "\n",
    "B is subclass/ child class."
   ]
  },
  {
   "cell_type": "markdown",
   "metadata": {},
   "source": [
    "### MultiLevel Inheritence"
   ]
  },
  {
   "cell_type": "code",
   "execution_count": 39,
   "metadata": {},
   "outputs": [],
   "source": [
    "class A:\n",
    "    \n",
    "    def __init__(self):\n",
    "        pass\n",
    "    \n",
    "    def feature1(self):\n",
    "        print(\"Feature 1 working\")\n",
    "        \n",
    "    def feature2(self):\n",
    "        print(\"Feature 2 working\")\n",
    "        \n",
    "        \n",
    "class B(A):\n",
    "    \n",
    "    def __init__(self):\n",
    "        pass\n",
    "    \n",
    "    def feature3(self):\n",
    "        print(\"Feature 3 working\")\n",
    "        \n",
    "    def feature4(self):\n",
    "        print(\"Feature 4 working\")\n",
    "        \n",
    "\n",
    "class C(B):\n",
    "    \n",
    "    def __init__(self):\n",
    "        pass\n",
    "    \n",
    "    def feature5(self):\n",
    "        print(\"Feature 5 working\")"
   ]
  },
  {
   "cell_type": "code",
   "execution_count": 40,
   "metadata": {},
   "outputs": [],
   "source": [
    "c1 = C()"
   ]
  },
  {
   "cell_type": "code",
   "execution_count": 41,
   "metadata": {
    "scrolled": true
   },
   "outputs": [
    {
     "name": "stdout",
     "output_type": "stream",
     "text": [
      "Feature 1 working\n",
      "Feature 2 working\n",
      "Feature 3 working\n",
      "Feature 4 working\n",
      "Feature 5 working\n"
     ]
    }
   ],
   "source": [
    "c1.feature1()\n",
    "c1.feature2()\n",
    "c1.feature3()\n",
    "c1.feature4()\n",
    "c1.feature5()"
   ]
  },
  {
   "cell_type": "markdown",
   "metadata": {},
   "source": [
    "### Multiple Inheritence"
   ]
  },
  {
   "cell_type": "code",
   "execution_count": 42,
   "metadata": {},
   "outputs": [],
   "source": [
    "class A:\n",
    "    \n",
    "    def __init__(self):\n",
    "        pass\n",
    "    \n",
    "    def feature1(self):\n",
    "        print(\"Feature 1 working\")\n",
    "        \n",
    "    def feature2(self):\n",
    "        print(\"Feature 2 working\")\n",
    "        \n",
    "        \n",
    "class B:\n",
    "    \n",
    "    def __init__(self):\n",
    "        pass\n",
    "    \n",
    "    def feature3(self):\n",
    "        print(\"Feature 3 working\")\n",
    "        \n",
    "    def feature4(self):\n",
    "        print(\"Feature 4 working\")\n",
    "        \n",
    "\n",
    "class C(A, B):\n",
    "    \n",
    "    def __init__(self):\n",
    "        pass\n",
    "    \n",
    "    def feature5(self):\n",
    "        print(\"Feature 5 working\")"
   ]
  },
  {
   "cell_type": "code",
   "execution_count": 43,
   "metadata": {},
   "outputs": [],
   "source": [
    "a1 = A()\n",
    "b1 = B()\n",
    "c1 = C()"
   ]
  },
  {
   "cell_type": "code",
   "execution_count": 44,
   "metadata": {},
   "outputs": [
    {
     "name": "stdout",
     "output_type": "stream",
     "text": [
      "Feature 1 working\n",
      "Feature 2 working\n"
     ]
    }
   ],
   "source": [
    "a1.feature1()\n",
    "a1.feature2()"
   ]
  },
  {
   "cell_type": "code",
   "execution_count": 45,
   "metadata": {},
   "outputs": [
    {
     "name": "stdout",
     "output_type": "stream",
     "text": [
      "Feature 3 working\n",
      "Feature 4 working\n"
     ]
    }
   ],
   "source": [
    "b1.feature3()\n",
    "b1.feature4()"
   ]
  },
  {
   "cell_type": "code",
   "execution_count": 46,
   "metadata": {},
   "outputs": [
    {
     "name": "stdout",
     "output_type": "stream",
     "text": [
      "Feature 1 working\n",
      "Feature 2 working\n",
      "Feature 3 working\n",
      "Feature 4 working\n",
      "Feature 5 working\n"
     ]
    }
   ],
   "source": [
    "c1.feature1()\n",
    "c1.feature2()\n",
    "c1.feature3()\n",
    "c1.feature4()\n",
    "c1.feature5()"
   ]
  },
  {
   "cell_type": "markdown",
   "metadata": {},
   "source": [
    "### Constructer Inheritence"
   ]
  },
  {
   "cell_type": "code",
   "execution_count": 47,
   "metadata": {},
   "outputs": [],
   "source": [
    "class A:\n",
    "    \n",
    "    def __init__(self):\n",
    "        print(\"In A's init\")\n",
    "    \n",
    "    def feature1(self):\n",
    "        print(\"Feature 1 working\")\n",
    "        \n",
    "    def feature2(self):\n",
    "        print(\"Feature 2 working\")\n",
    "        \n",
    "        \n",
    "class B(A):\n",
    "    \n",
    "    # We dont have B's init\n",
    "    \n",
    "    def feature3(self):\n",
    "        print(\"Feature 3 working\")\n",
    "        \n",
    "    def feature4(self):\n",
    "        print(\"Feature 4 working\")"
   ]
  },
  {
   "cell_type": "code",
   "execution_count": 48,
   "metadata": {},
   "outputs": [
    {
     "name": "stdout",
     "output_type": "stream",
     "text": [
      "In A's init\n"
     ]
    }
   ],
   "source": [
    "a1 = A()"
   ]
  },
  {
   "cell_type": "code",
   "execution_count": 49,
   "metadata": {},
   "outputs": [
    {
     "name": "stdout",
     "output_type": "stream",
     "text": [
      "Feature 1 working\n",
      "Feature 2 working\n"
     ]
    }
   ],
   "source": [
    "a1.feature1()\n",
    "a1.feature2()"
   ]
  },
  {
   "cell_type": "code",
   "execution_count": 50,
   "metadata": {},
   "outputs": [
    {
     "name": "stdout",
     "output_type": "stream",
     "text": [
      "In A's init\n"
     ]
    }
   ],
   "source": [
    "b1 = B()"
   ]
  },
  {
   "cell_type": "code",
   "execution_count": 51,
   "metadata": {},
   "outputs": [],
   "source": [
    "class A:\n",
    "    \n",
    "    def __init__(self):\n",
    "        print(\"In A's init\")\n",
    "    \n",
    "    def feature1(self):\n",
    "        print(\"Feature 1 working\")\n",
    "        \n",
    "    def feature2(self):\n",
    "        print(\"Feature 2 working\")\n",
    "        \n",
    "        \n",
    "class B(A):\n",
    "    \n",
    "    def __init__(self):\n",
    "        print(\"In B's init\")\n",
    "    \n",
    "    def feature3(self):\n",
    "        print(\"Feature 3 working\")\n",
    "        \n",
    "    def feature4(self):\n",
    "        print(\"Feature 4 working\")"
   ]
  },
  {
   "cell_type": "code",
   "execution_count": 52,
   "metadata": {},
   "outputs": [
    {
     "name": "stdout",
     "output_type": "stream",
     "text": [
      "In A's init\n"
     ]
    }
   ],
   "source": [
    "a1 = A()"
   ]
  },
  {
   "cell_type": "code",
   "execution_count": 53,
   "metadata": {},
   "outputs": [
    {
     "name": "stdout",
     "output_type": "stream",
     "text": [
      "Feature 1 working\n",
      "Feature 2 working\n"
     ]
    }
   ],
   "source": [
    "a1.feature1()\n",
    "a1.feature2()"
   ]
  },
  {
   "cell_type": "code",
   "execution_count": 54,
   "metadata": {},
   "outputs": [
    {
     "name": "stdout",
     "output_type": "stream",
     "text": [
      "In B's init\n"
     ]
    }
   ],
   "source": [
    "b1 = B()"
   ]
  },
  {
   "cell_type": "markdown",
   "metadata": {},
   "source": [
    "If you create the object for subclass, it will first try to find init in subclass itself, if its not there, then it will go for the superclass's init."
   ]
  },
  {
   "cell_type": "code",
   "execution_count": 55,
   "metadata": {},
   "outputs": [],
   "source": [
    "class A:\n",
    "    \n",
    "    def __init__(self):\n",
    "        print(\"In A's init\")\n",
    "    \n",
    "    def feature1(self):\n",
    "        print(\"Feature 1 working\")\n",
    "        \n",
    "    def feature2(self):\n",
    "        print(\"Feature 2 working\")\n",
    "        \n",
    "        \n",
    "class B(A):\n",
    "    \n",
    "    def __init__(self):\n",
    "        super().__init__()\n",
    "        print(\"In B's init\")\n",
    "    \n",
    "    def feature3(self):\n",
    "        print(\"Feature 3 working\")\n",
    "        \n",
    "    def feature4(self):\n",
    "        print(\"Feature 4 working\")"
   ]
  },
  {
   "cell_type": "code",
   "execution_count": 56,
   "metadata": {},
   "outputs": [
    {
     "name": "stdout",
     "output_type": "stream",
     "text": [
      "In A's init\n",
      "In B's init\n"
     ]
    }
   ],
   "source": [
    "b1 = B()"
   ]
  },
  {
   "cell_type": "code",
   "execution_count": 57,
   "metadata": {},
   "outputs": [],
   "source": [
    "class A:\n",
    "    \n",
    "    def __init__(self):\n",
    "        print(\"In A's init\")\n",
    "    \n",
    "    def feature1(self):\n",
    "        print(\"Feature 1 working\")\n",
    "        \n",
    "    def feature2(self):\n",
    "        print(\"Feature 2 working\")\n",
    "        \n",
    "        \n",
    "class B:\n",
    "    \n",
    "    def __init__(self):\n",
    "        print(\"In B's init\")\n",
    "    \n",
    "    def feature3(self):\n",
    "        print(\"Feature 3 working\")\n",
    "        \n",
    "    def feature4(self):\n",
    "        print(\"Feature 4 working\")\n",
    "        \n",
    "\n",
    "class C(A, B):\n",
    "    \n",
    "    def __init__(self):\n",
    "        print(\"In C's init\")\n",
    "        \n",
    "    def feature5(self):\n",
    "        print(\"Feature 5 working\")"
   ]
  },
  {
   "cell_type": "code",
   "execution_count": 58,
   "metadata": {},
   "outputs": [
    {
     "name": "stdout",
     "output_type": "stream",
     "text": [
      "In C's init\n"
     ]
    }
   ],
   "source": [
    "c1 = C()"
   ]
  },
  {
   "cell_type": "code",
   "execution_count": 59,
   "metadata": {},
   "outputs": [],
   "source": [
    "class A:\n",
    "    \n",
    "    def __init__(self):\n",
    "        print(\"In A's init\")\n",
    "    \n",
    "    def feature1(self):\n",
    "        print(\"Feature 1 of A working\")\n",
    "        \n",
    "    def feature2(self):\n",
    "        print(\"Feature 2 working\")\n",
    "        \n",
    "        \n",
    "class B:\n",
    "    \n",
    "    def __init__(self):\n",
    "        print(\"In B's init\")\n",
    "    \n",
    "    def feature1(self):\n",
    "        print(\"Feature 1 of B working\")\n",
    "        \n",
    "    def feature3(self):\n",
    "        print(\"Feature 3 working\")\n",
    "        \n",
    "\n",
    "class C(A, B):\n",
    "    \n",
    "    def __init__(self):\n",
    "        super().__init__()\n",
    "        print(\"In C's init\")\n",
    "        super().feature3()\n",
    "        \n",
    "    def feature4(self):\n",
    "        print(\"Feature 4 working\")"
   ]
  },
  {
   "cell_type": "code",
   "execution_count": 60,
   "metadata": {},
   "outputs": [
    {
     "name": "stdout",
     "output_type": "stream",
     "text": [
      "In A's init\n",
      "In C's init\n",
      "Feature 3 working\n"
     ]
    }
   ],
   "source": [
    "c1 = C()"
   ]
  },
  {
   "cell_type": "markdown",
   "metadata": {},
   "source": [
    "#### Method Resolution Order\n",
    "\n",
    "Object of child class in case of multiple inheritence prefers to go with leftmost class's init"
   ]
  },
  {
   "cell_type": "code",
   "execution_count": 61,
   "metadata": {},
   "outputs": [
    {
     "name": "stdout",
     "output_type": "stream",
     "text": [
      "Feature 1 of A working\n"
     ]
    }
   ],
   "source": [
    "c1.feature1()"
   ]
  },
  {
   "cell_type": "markdown",
   "metadata": {},
   "source": [
    "## Polymorphism\n",
    "\n",
    "Multiple Forms/ Behavious of Objects.\n",
    "\n",
    "Ways to implement Polymorphism are:\n",
    "1. Duck Typing\n",
    "2. Operator Overloading\n",
    "3. Method Overloading\n",
    "4. Method Overriding\n"
   ]
  },
  {
   "cell_type": "markdown",
   "metadata": {},
   "source": [
    "### Duck Typing"
   ]
  },
  {
   "cell_type": "markdown",
   "metadata": {},
   "source": [
    "If it looks like a duck,\n",
    "swims like a duck, \n",
    "quacks like a duck, \n",
    "then its probably a duck."
   ]
  },
  {
   "cell_type": "code",
   "execution_count": 62,
   "metadata": {},
   "outputs": [],
   "source": [
    "x = 5"
   ]
  },
  {
   "cell_type": "code",
   "execution_count": 63,
   "metadata": {},
   "outputs": [
    {
     "data": {
      "text/plain": [
       "140723284054976"
      ]
     },
     "execution_count": 63,
     "metadata": {},
     "output_type": "execute_result"
    }
   ],
   "source": [
    "id(x)"
   ]
  },
  {
   "cell_type": "code",
   "execution_count": 64,
   "metadata": {},
   "outputs": [],
   "source": [
    "x = \"Aditya\""
   ]
  },
  {
   "cell_type": "code",
   "execution_count": 65,
   "metadata": {},
   "outputs": [
    {
     "data": {
      "text/plain": [
       "1594588699984"
      ]
     },
     "execution_count": 65,
     "metadata": {},
     "output_type": "execute_result"
    }
   ],
   "source": [
    "id(x)"
   ]
  },
  {
   "cell_type": "code",
   "execution_count": 66,
   "metadata": {},
   "outputs": [],
   "source": [
    "x = \"Aditya\""
   ]
  },
  {
   "cell_type": "code",
   "execution_count": 67,
   "metadata": {},
   "outputs": [
    {
     "data": {
      "text/plain": [
       "1594588699984"
      ]
     },
     "execution_count": 67,
     "metadata": {},
     "output_type": "execute_result"
    }
   ],
   "source": [
    "id(x)"
   ]
  },
  {
   "cell_type": "code",
   "execution_count": 68,
   "metadata": {},
   "outputs": [],
   "source": [
    "x = \"\""
   ]
  },
  {
   "cell_type": "code",
   "execution_count": 69,
   "metadata": {},
   "outputs": [
    {
     "data": {
      "text/plain": [
       "1594517585008"
      ]
     },
     "execution_count": 69,
     "metadata": {},
     "output_type": "execute_result"
    }
   ],
   "source": [
    "id(x)"
   ]
  },
  {
   "cell_type": "code",
   "execution_count": 70,
   "metadata": {},
   "outputs": [],
   "source": [
    "y = x"
   ]
  },
  {
   "cell_type": "code",
   "execution_count": 71,
   "metadata": {},
   "outputs": [
    {
     "data": {
      "text/plain": [
       "1594517585008"
      ]
     },
     "execution_count": 71,
     "metadata": {},
     "output_type": "execute_result"
    }
   ],
   "source": [
    "id(y)"
   ]
  },
  {
   "cell_type": "code",
   "execution_count": 72,
   "metadata": {},
   "outputs": [
    {
     "data": {
      "text/plain": [
       "True"
      ]
     },
     "execution_count": 72,
     "metadata": {},
     "output_type": "execute_result"
    }
   ],
   "source": [
    "id(x) == id(y)"
   ]
  },
  {
   "cell_type": "code",
   "execution_count": 73,
   "metadata": {},
   "outputs": [],
   "source": [
    "class Laptop:\n",
    "    \n",
    "    def __init__(self):\n",
    "        pass\n",
    "    \n",
    "    def code(self, ide):\n",
    "        ide.execute()\n",
    "        \n",
    "class PyCharm:\n",
    "    \n",
    "    def __init__(self):\n",
    "        pass\n",
    "    \n",
    "    def execute(self):\n",
    "        print(\"Compiling\")\n",
    "        print(\"Running\")"
   ]
  },
  {
   "cell_type": "code",
   "execution_count": 74,
   "metadata": {},
   "outputs": [],
   "source": [
    "lap1 = Laptop()"
   ]
  },
  {
   "cell_type": "code",
   "execution_count": 75,
   "metadata": {},
   "outputs": [
    {
     "ename": "TypeError",
     "evalue": "code() missing 1 required positional argument: 'ide'",
     "output_type": "error",
     "traceback": [
      "\u001b[1;31m---------------------------------------------------------------------------\u001b[0m",
      "\u001b[1;31mTypeError\u001b[0m                                 Traceback (most recent call last)",
      "\u001b[1;32m<ipython-input-75-01677b6a80f0>\u001b[0m in \u001b[0;36m<module>\u001b[1;34m\u001b[0m\n\u001b[1;32m----> 1\u001b[1;33m \u001b[0mlap1\u001b[0m\u001b[1;33m.\u001b[0m\u001b[0mcode\u001b[0m\u001b[1;33m(\u001b[0m\u001b[1;33m)\u001b[0m\u001b[1;33m\u001b[0m\u001b[1;33m\u001b[0m\u001b[0m\n\u001b[0m",
      "\u001b[1;31mTypeError\u001b[0m: code() missing 1 required positional argument: 'ide'"
     ]
    }
   ],
   "source": [
    "lap1.code()"
   ]
  },
  {
   "cell_type": "code",
   "execution_count": 76,
   "metadata": {},
   "outputs": [],
   "source": [
    "ide = PyCharm()"
   ]
  },
  {
   "cell_type": "code",
   "execution_count": 77,
   "metadata": {},
   "outputs": [
    {
     "name": "stdout",
     "output_type": "stream",
     "text": [
      "Compiling\n",
      "Running\n"
     ]
    }
   ],
   "source": [
    "lap1.code(ide)"
   ]
  },
  {
   "cell_type": "code",
   "execution_count": 78,
   "metadata": {},
   "outputs": [],
   "source": [
    "class Laptop:\n",
    "    \n",
    "    def __init__(self):\n",
    "        pass\n",
    "    \n",
    "    def code(self, ide):\n",
    "        ide.execute()\n",
    "        \n",
    "class PyCharm:\n",
    "    \n",
    "    def __init__(self):\n",
    "        pass\n",
    "    \n",
    "    def execute(self):\n",
    "        print(\"Compiling\")\n",
    "        print(\"Running\")\n",
    "        \n",
    "class MyCharm:\n",
    "    \n",
    "    def __init__(self):\n",
    "        pass\n",
    "    \n",
    "    def execute(self):\n",
    "        print(\"Spell Check\")\n",
    "        print(\"Debugging\")\n",
    "        print(\"Compiling\")\n",
    "        print(\"IPython Support\")\n",
    "        print(\"CUDA\")"
   ]
  },
  {
   "cell_type": "code",
   "execution_count": 79,
   "metadata": {},
   "outputs": [],
   "source": [
    "ide = MyCharm()"
   ]
  },
  {
   "cell_type": "code",
   "execution_count": 80,
   "metadata": {},
   "outputs": [
    {
     "name": "stdout",
     "output_type": "stream",
     "text": [
      "Spell Check\n",
      "Debugging\n",
      "Compiling\n",
      "IPython Support\n",
      "CUDA\n"
     ]
    }
   ],
   "source": [
    "lap1.code(ide)"
   ]
  },
  {
   "cell_type": "markdown",
   "metadata": {},
   "source": [
    "### Operator Overloading"
   ]
  },
  {
   "cell_type": "code",
   "execution_count": 81,
   "metadata": {},
   "outputs": [
    {
     "data": {
      "text/plain": [
       "11"
      ]
     },
     "execution_count": 81,
     "metadata": {},
     "output_type": "execute_result"
    }
   ],
   "source": [
    "5 + 6"
   ]
  },
  {
   "cell_type": "markdown",
   "metadata": {},
   "source": [
    "5 and 6 are operands,\n",
    "\"+\" is addition operator"
   ]
  },
  {
   "cell_type": "code",
   "execution_count": 82,
   "metadata": {},
   "outputs": [],
   "source": [
    "a = 5\n",
    "b = 6"
   ]
  },
  {
   "cell_type": "code",
   "execution_count": 83,
   "metadata": {},
   "outputs": [
    {
     "data": {
      "text/plain": [
       "11"
      ]
     },
     "execution_count": 83,
     "metadata": {},
     "output_type": "execute_result"
    }
   ],
   "source": [
    "a + b"
   ]
  },
  {
   "cell_type": "code",
   "execution_count": 84,
   "metadata": {},
   "outputs": [],
   "source": [
    "a = 5\n",
    "b = \"Aditya\""
   ]
  },
  {
   "cell_type": "code",
   "execution_count": 85,
   "metadata": {},
   "outputs": [
    {
     "ename": "TypeError",
     "evalue": "unsupported operand type(s) for +: 'int' and 'str'",
     "output_type": "error",
     "traceback": [
      "\u001b[1;31m---------------------------------------------------------------------------\u001b[0m",
      "\u001b[1;31mTypeError\u001b[0m                                 Traceback (most recent call last)",
      "\u001b[1;32m<ipython-input-85-bd58363a63fc>\u001b[0m in \u001b[0;36m<module>\u001b[1;34m\u001b[0m\n\u001b[1;32m----> 1\u001b[1;33m \u001b[0ma\u001b[0m \u001b[1;33m+\u001b[0m \u001b[0mb\u001b[0m\u001b[1;33m\u001b[0m\u001b[1;33m\u001b[0m\u001b[0m\n\u001b[0m",
      "\u001b[1;31mTypeError\u001b[0m: unsupported operand type(s) for +: 'int' and 'str'"
     ]
    }
   ],
   "source": [
    "a + b"
   ]
  },
  {
   "cell_type": "code",
   "execution_count": 86,
   "metadata": {},
   "outputs": [
    {
     "data": {
      "text/plain": [
       "NotImplemented"
      ]
     },
     "execution_count": 86,
     "metadata": {},
     "output_type": "execute_result"
    }
   ],
   "source": [
    "int.__add__(a, b)"
   ]
  },
  {
   "cell_type": "code",
   "execution_count": 87,
   "metadata": {},
   "outputs": [],
   "source": [
    "a = 5\n",
    "b = 6"
   ]
  },
  {
   "cell_type": "code",
   "execution_count": 88,
   "metadata": {},
   "outputs": [
    {
     "data": {
      "text/plain": [
       "11"
      ]
     },
     "execution_count": 88,
     "metadata": {},
     "output_type": "execute_result"
    }
   ],
   "source": [
    "int.__add__(a, b)"
   ]
  },
  {
   "cell_type": "code",
   "execution_count": 89,
   "metadata": {},
   "outputs": [],
   "source": [
    "a = \"Aditya\"\n",
    "b = \" Dwivedi\""
   ]
  },
  {
   "cell_type": "code",
   "execution_count": 90,
   "metadata": {},
   "outputs": [
    {
     "data": {
      "text/plain": [
       "'Aditya Dwivedi'"
      ]
     },
     "execution_count": 90,
     "metadata": {},
     "output_type": "execute_result"
    }
   ],
   "source": [
    "str.__add__(a, b)"
   ]
  },
  {
   "cell_type": "code",
   "execution_count": 91,
   "metadata": {},
   "outputs": [],
   "source": [
    "#  + - __add__()\n",
    "#  - - __sub__()\n",
    "#  * - __mul__()\n",
    "# ..... magic methods"
   ]
  },
  {
   "cell_type": "code",
   "execution_count": 92,
   "metadata": {},
   "outputs": [],
   "source": [
    "class Student:\n",
    "    \n",
    "    def __init__(self, m1, m2):\n",
    "        self.m1 = m1\n",
    "        self.m2 = m2"
   ]
  },
  {
   "cell_type": "code",
   "execution_count": 93,
   "metadata": {},
   "outputs": [],
   "source": [
    "s1 = Student(55, 56)\n",
    "s2 = Student(60, 66)"
   ]
  },
  {
   "cell_type": "code",
   "execution_count": 94,
   "metadata": {},
   "outputs": [
    {
     "ename": "TypeError",
     "evalue": "unsupported operand type(s) for +: 'Student' and 'Student'",
     "output_type": "error",
     "traceback": [
      "\u001b[1;31m---------------------------------------------------------------------------\u001b[0m",
      "\u001b[1;31mTypeError\u001b[0m                                 Traceback (most recent call last)",
      "\u001b[1;32m<ipython-input-94-25608ac9412d>\u001b[0m in \u001b[0;36m<module>\u001b[1;34m\u001b[0m\n\u001b[1;32m----> 1\u001b[1;33m \u001b[0ms3\u001b[0m \u001b[1;33m=\u001b[0m \u001b[0ms1\u001b[0m \u001b[1;33m+\u001b[0m \u001b[0ms2\u001b[0m\u001b[1;33m\u001b[0m\u001b[1;33m\u001b[0m\u001b[0m\n\u001b[0m",
      "\u001b[1;31mTypeError\u001b[0m: unsupported operand type(s) for +: 'Student' and 'Student'"
     ]
    }
   ],
   "source": [
    "s3 = s1 + s2"
   ]
  },
  {
   "cell_type": "code",
   "execution_count": 95,
   "metadata": {},
   "outputs": [],
   "source": [
    "class Student:\n",
    "    \n",
    "    def __init__(self, m1, m2):\n",
    "        self.m1 = m1\n",
    "        self.m2 = m2\n",
    "        \n",
    "    # Overloading Operator    \n",
    "    def __add__(self, obj):\n",
    "        m1 = self.m1 + obj.m1\n",
    "        m2 = self.m2 + obj.m2\n",
    "        s3 = Student(m1, m2)\n",
    "        return s3"
   ]
  },
  {
   "cell_type": "code",
   "execution_count": 96,
   "metadata": {},
   "outputs": [],
   "source": [
    "s1 = Student(34, 45)\n",
    "s2 = Student(43, 37)"
   ]
  },
  {
   "cell_type": "code",
   "execution_count": 97,
   "metadata": {},
   "outputs": [],
   "source": [
    "s3 = s1 + s2"
   ]
  },
  {
   "cell_type": "code",
   "execution_count": 98,
   "metadata": {},
   "outputs": [
    {
     "data": {
      "text/plain": [
       "<__main__.Student at 0x17344f38828>"
      ]
     },
     "execution_count": 98,
     "metadata": {},
     "output_type": "execute_result"
    }
   ],
   "source": [
    "s3"
   ]
  },
  {
   "cell_type": "code",
   "execution_count": 99,
   "metadata": {},
   "outputs": [
    {
     "data": {
      "text/plain": [
       "77"
      ]
     },
     "execution_count": 99,
     "metadata": {},
     "output_type": "execute_result"
    }
   ],
   "source": [
    "s3.m1"
   ]
  },
  {
   "cell_type": "code",
   "execution_count": 100,
   "metadata": {},
   "outputs": [
    {
     "data": {
      "text/plain": [
       "82"
      ]
     },
     "execution_count": 100,
     "metadata": {},
     "output_type": "execute_result"
    }
   ],
   "source": [
    "s3.m2"
   ]
  },
  {
   "cell_type": "code",
   "execution_count": 101,
   "metadata": {},
   "outputs": [
    {
     "ename": "TypeError",
     "evalue": "'>' not supported between instances of 'Student' and 'Student'",
     "output_type": "error",
     "traceback": [
      "\u001b[1;31m---------------------------------------------------------------------------\u001b[0m",
      "\u001b[1;31mTypeError\u001b[0m                                 Traceback (most recent call last)",
      "\u001b[1;32m<ipython-input-101-1d73d9d2d3ae>\u001b[0m in \u001b[0;36m<module>\u001b[1;34m\u001b[0m\n\u001b[1;32m----> 1\u001b[1;33m \u001b[1;32mif\u001b[0m \u001b[0ms1\u001b[0m \u001b[1;33m>\u001b[0m \u001b[0ms2\u001b[0m\u001b[1;33m:\u001b[0m\u001b[1;33m\u001b[0m\u001b[1;33m\u001b[0m\u001b[0m\n\u001b[0m\u001b[0;32m      2\u001b[0m     \u001b[0mprint\u001b[0m\u001b[1;33m(\u001b[0m\u001b[1;34m\"s1 wins\"\u001b[0m\u001b[1;33m)\u001b[0m\u001b[1;33m\u001b[0m\u001b[1;33m\u001b[0m\u001b[0m\n\u001b[0;32m      3\u001b[0m \u001b[1;32melse\u001b[0m\u001b[1;33m:\u001b[0m\u001b[1;33m\u001b[0m\u001b[1;33m\u001b[0m\u001b[0m\n\u001b[0;32m      4\u001b[0m     \u001b[0mprint\u001b[0m\u001b[1;33m(\u001b[0m\u001b[1;34m\"s2 wins\"\u001b[0m\u001b[1;33m)\u001b[0m\u001b[1;33m\u001b[0m\u001b[1;33m\u001b[0m\u001b[0m\n",
      "\u001b[1;31mTypeError\u001b[0m: '>' not supported between instances of 'Student' and 'Student'"
     ]
    }
   ],
   "source": [
    "if s1 > s2:\n",
    "    print(\"s1 wins\")\n",
    "else:\n",
    "    print(\"s2 wins\")"
   ]
  },
  {
   "cell_type": "code",
   "execution_count": 102,
   "metadata": {},
   "outputs": [],
   "source": [
    "class Student:\n",
    "    \n",
    "    def __init__(self, m1, m2):\n",
    "        self.m1 = m1\n",
    "        self.m2 = m2\n",
    "        \n",
    "    # Overloading Operator    \n",
    "    def __add__(self, obj):\n",
    "        m1 = self.m1 + obj.m1\n",
    "        m2 = self.m2 + obj.m2\n",
    "        s3 = Student(m1, m2)\n",
    "        return s3\n",
    "    \n",
    "    # Overloading Operator\n",
    "    def __gt__(self, obj):\n",
    "        s1 = self.m1 + self.m2\n",
    "        s2 = obj.m1 + obj.m2\n",
    "        if s1 > s2:\n",
    "            return True\n",
    "        else:\n",
    "            return False"
   ]
  },
  {
   "cell_type": "code",
   "execution_count": 103,
   "metadata": {},
   "outputs": [],
   "source": [
    "s1 = Student(34, 45)\n",
    "s2 = Student(43, 37)"
   ]
  },
  {
   "cell_type": "code",
   "execution_count": 104,
   "metadata": {},
   "outputs": [
    {
     "name": "stdout",
     "output_type": "stream",
     "text": [
      "s2 wins\n"
     ]
    }
   ],
   "source": [
    "if s1 > s2:\n",
    "    print(\"s1 wins\")\n",
    "else:\n",
    "    print(\"s2 wins\")"
   ]
  },
  {
   "cell_type": "code",
   "execution_count": 105,
   "metadata": {},
   "outputs": [
    {
     "name": "stdout",
     "output_type": "stream",
     "text": [
      "<__main__.Student object at 0x0000017344F458D0>\n"
     ]
    }
   ],
   "source": [
    "print(s1)"
   ]
  },
  {
   "cell_type": "code",
   "execution_count": 106,
   "metadata": {},
   "outputs": [
    {
     "name": "stdout",
     "output_type": "stream",
     "text": [
      "<__main__.Student object at 0x0000017344F458D0>\n"
     ]
    }
   ],
   "source": [
    "print(s1.__str__())"
   ]
  },
  {
   "cell_type": "code",
   "execution_count": 107,
   "metadata": {},
   "outputs": [],
   "source": [
    "class Student:\n",
    "    \n",
    "    def __init__(self, m1, m2):\n",
    "        self.m1 = m1\n",
    "        self.m2 = m2\n",
    "        \n",
    "    # Overloading Operator    \n",
    "    def __add__(self, obj):\n",
    "        m1 = self.m1 + obj.m1\n",
    "        m2 = self.m2 + obj.m2\n",
    "        s3 = Student(m1, m2)\n",
    "        return s3\n",
    "    \n",
    "    # Overloading Operator\n",
    "    def __gt__(self, obj):\n",
    "        s1 = self.m1 + self.m2\n",
    "        s2 = obj.m1 + obj.m2\n",
    "        if s1 > s2:\n",
    "            return True\n",
    "        else:\n",
    "            return False\n",
    "        \n",
    "    def __str__(self):\n",
    "        return \"{} {}\".format(self.m1, self.m2)"
   ]
  },
  {
   "cell_type": "code",
   "execution_count": 108,
   "metadata": {},
   "outputs": [],
   "source": [
    "s1 = Student(23, 45)"
   ]
  },
  {
   "cell_type": "code",
   "execution_count": 109,
   "metadata": {},
   "outputs": [
    {
     "name": "stdout",
     "output_type": "stream",
     "text": [
      "23 45\n"
     ]
    }
   ],
   "source": [
    "print(s1)"
   ]
  },
  {
   "cell_type": "code",
   "execution_count": 110,
   "metadata": {},
   "outputs": [
    {
     "data": {
      "text/plain": [
       "<__main__.Student at 0x17344f495c0>"
      ]
     },
     "execution_count": 110,
     "metadata": {},
     "output_type": "execute_result"
    }
   ],
   "source": [
    "s1"
   ]
  },
  {
   "cell_type": "code",
   "execution_count": 111,
   "metadata": {},
   "outputs": [
    {
     "data": {
      "text/plain": [
       "'23 45'"
      ]
     },
     "execution_count": 111,
     "metadata": {},
     "output_type": "execute_result"
    }
   ],
   "source": [
    "s1.__str__()"
   ]
  },
  {
   "cell_type": "markdown",
   "metadata": {},
   "source": [
    "### Method Overloading"
   ]
  },
  {
   "cell_type": "markdown",
   "metadata": {},
   "source": [
    "Its not supported in Python\n",
    "\n",
    "It means that if we have two functions with same name which have two parameters,\n",
    "\n",
    "for eg,\n",
    "1. def average(a, b)\n",
    "2. def average(a, b, c)\n",
    "\n",
    "\n",
    "Try to implement this, you have to implement your own logic"
   ]
  },
  {
   "cell_type": "markdown",
   "metadata": {},
   "source": [
    "### Method Overriding\n",
    "\n",
    "You have two methods of same name and same parameters.\n",
    "\n",
    "Try to implement it in Python, you have to implement it in Python. \n",
    "\n",
    "Make sure you are implementing it in different classes. And concept of inheritence will work here."
   ]
  }
 ],
 "metadata": {
  "kernelspec": {
   "display_name": "Python 3",
   "language": "python",
   "name": "python3"
  },
  "language_info": {
   "codemirror_mode": {
    "name": "ipython",
    "version": 3
   },
   "file_extension": ".py",
   "mimetype": "text/x-python",
   "name": "python",
   "nbconvert_exporter": "python",
   "pygments_lexer": "ipython3",
   "version": "3.7.3"
  }
 },
 "nbformat": 4,
 "nbformat_minor": 2
}
